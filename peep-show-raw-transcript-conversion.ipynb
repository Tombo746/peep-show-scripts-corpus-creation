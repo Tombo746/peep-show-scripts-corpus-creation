{
 "cells": [
  {
   "cell_type": "markdown",
   "metadata": {
    "papermill": {
     "duration": 0.009886,
     "end_time": "2021-02-26T05:32:44.217903",
     "exception": false,
     "start_time": "2021-02-26T05:32:44.208017",
     "status": "completed"
    },
    "tags": []
   },
   "source": [
    "# Peep Show TV Series Script Corpus Creation Process\n",
    "\n",
    "### Process raw scripts for season 1 to 9 into a table and review\n",
    "\n",
    "#### Thomas Bowe"
   ]
  },
  {
   "cell_type": "code",
   "execution_count": 1,
   "metadata": {
    "_execution_state": "idle",
    "_kg_hide-output": true,
    "_uuid": "051d70d956493feee0c6d64651c6a088724dca2a",
    "execution": {
     "iopub.execute_input": "2021-02-26T05:32:44.267883Z",
     "iopub.status.busy": "2021-02-26T05:32:44.265903Z",
     "iopub.status.idle": "2021-02-26T05:32:45.579547Z",
     "shell.execute_reply": "2021-02-26T05:32:45.578170Z"
    },
    "papermill": {
     "duration": 1.353097,
     "end_time": "2021-02-26T05:32:45.579860",
     "exception": false,
     "start_time": "2021-02-26T05:32:44.226763",
     "status": "completed"
    },
    "tags": []
   },
   "outputs": [
    {
     "name": "stderr",
     "output_type": "stream",
     "text": [
      "── \u001b[1mAttaching packages\u001b[22m ─────────────────────────────────────── tidyverse 1.3.0 ──\n",
      "\n",
      "\u001b[32m✔\u001b[39m \u001b[34mggplot2\u001b[39m 3.3.2     \u001b[32m✔\u001b[39m \u001b[34mpurrr  \u001b[39m 0.3.4\n",
      "\u001b[32m✔\u001b[39m \u001b[34mtibble \u001b[39m 3.0.4     \u001b[32m✔\u001b[39m \u001b[34mdplyr  \u001b[39m 1.0.2\n",
      "\u001b[32m✔\u001b[39m \u001b[34mtidyr  \u001b[39m 1.1.2     \u001b[32m✔\u001b[39m \u001b[34mstringr\u001b[39m 1.4.0\n",
      "\u001b[32m✔\u001b[39m \u001b[34mreadr  \u001b[39m 1.4.0     \u001b[32m✔\u001b[39m \u001b[34mforcats\u001b[39m 0.5.0\n",
      "\n",
      "── \u001b[1mConflicts\u001b[22m ────────────────────────────────────────── tidyverse_conflicts() ──\n",
      "\u001b[31m✖\u001b[39m \u001b[34mdplyr\u001b[39m::\u001b[32mfilter()\u001b[39m masks \u001b[34mstats\u001b[39m::filter()\n",
      "\u001b[31m✖\u001b[39m \u001b[34mdplyr\u001b[39m::\u001b[32mlag()\u001b[39m    masks \u001b[34mstats\u001b[39m::lag()\n",
      "\n",
      "\n",
      "Attaching package: ‘reshape2’\n",
      "\n",
      "\n",
      "The following object is masked from ‘package:tidyr’:\n",
      "\n",
      "    smiths\n",
      "\n",
      "\n"
     ]
    }
   ],
   "source": [
    "library(tidyverse)\n",
    "library(reshape2)"
   ]
  },
  {
   "cell_type": "code",
   "execution_count": 2,
   "metadata": {
    "execution": {
     "iopub.execute_input": "2021-02-26T05:32:45.637602Z",
     "iopub.status.busy": "2021-02-26T05:32:45.605921Z",
     "iopub.status.idle": "2021-02-26T05:32:45.684643Z",
     "shell.execute_reply": "2021-02-26T05:32:45.683341Z"
    },
    "papermill": {
     "duration": 0.093496,
     "end_time": "2021-02-26T05:32:45.684834",
     "exception": false,
     "start_time": "2021-02-26T05:32:45.591338",
     "status": "completed"
    },
    "tags": []
   },
   "outputs": [
    {
     "data": {
      "text/html": [
       "<table class=\"dataframe\">\n",
       "<caption>A tibble: 20 × 1</caption>\n",
       "<thead>\n",
       "\t<tr><th scope=col>content</th></tr>\n",
       "\t<tr><th scope=col>&lt;chr&gt;</th></tr>\n",
       "</thead>\n",
       "<tbody>\n",
       "\t<tr><td>On The Pull                                                                                                                                                                                                                                                                                                                                                         </td></tr>\n",
       "\t<tr><td>Season 1                                                                                                                                                                                                                                                                                                                                                            </td></tr>\n",
       "\t<tr><td>Episode 3                                                                                                                                                                                                                                                                                                                                                           </td></tr>\n",
       "\t<tr><td>03/10/2003                                                                                                                                                                                                                                                                                                                                                          </td></tr>\n",
       "\t<tr><td>On The Pull is the third episode of the British sitcom Peep Show. It first aired on 3rd October 2003. It was written by Jesse Armstrong and Sam Bain. It was directed by Jeremy Wooding. Lines in parentheses indicate internal monologues spoken by the characters via voice-over.                                                                                 </td></tr>\n",
       "\t<tr><td>Transcript                                                                                                                                                                                                                                                                                                                                                          </td></tr>\n",
       "\t<tr><td>[Mark is shopping in the supermarket]                                                                                                                                                                                                                                                                                                                               </td></tr>\n",
       "\t<tr><td>Mark: (Life's all pain. Pain, rejection and gloom. Why do we even pretend there's anything other than a yawning blankness at the heart of-) [Picks up a can of soup] (Hey! 33% extra free. I am doing excellent shopping. My depressed state of mind means I am being even more frugal than normal.)                                                                </td></tr>\n",
       "\t<tr><td>[Jez joins him]                                                                                                                                                                                                                                                                                                                                                     </td></tr>\n",
       "\t<tr><td>Jeremy: Mark!                                                                                                                                                                                                                                                                                                                                                       </td></tr>\n",
       "\t<tr><td>Mark: Hey Jeremy.                                                                                                                                                                                                                                                                                                                                                   </td></tr>\n",
       "\t<tr><td>Jeremy: You do realize tinned food is just for crackheads and wars. [Picks up a bottle of extra-virgin olive oil]                                                                                                                                                                                                                                                   </td></tr>\n",
       "\t<tr><td>Mark: Oh no, mate. This stuff is 78 pence a hundred millilitres. [Puts the olive oil back]                                                                                                                                                                                                                                                                          </td></tr>\n",
       "\t<tr><td>Jeremy: Yeah, it's first pressing, or do you want to wait until everyone else has had their fun with the olives? Fourth pressing, yeah, like that's going to be a party in your mouth. I don't think.                                                                                                                                                               </td></tr>\n",
       "\t<tr><td>Mark: Look Jeremy, we've been through this before. I do the joint shopping solo because I don't make impulse purchases and I'm less swayed by the power of-                                                                                                                                                                                                         </td></tr>\n",
       "\t<tr><td>Jeremy: Mark! I'm not shopping. I just came here to tell you we've been invited to a very wicked party.                                                                                                                                                                                                                                                             </td></tr>\n",
       "\t<tr><td>Mark: Do I look like the kind of man who goes to wicked parties? Why don't you ask Toni?                                                                                                                                                                                                                                                                            </td></tr>\n",
       "\t<tr><td>Jeremy: I did actually but she said no. But it's better this way, two lads, we gotta get out there, grooving, doing it, you know? It's been a long time for either of us. I haven't had my oats in something like, two weeks! (Nine months and thirteen days.) I mean look at us! [Holds up a box of tissues] People are gonna think we spend the whole day wanking.</td></tr>\n",
       "\t<tr><td>Mark: Don't be ridiculous, they're homey. They're for wiping up mess.                                                                                                                                                                                                                                                                                               </td></tr>\n",
       "\t<tr><td>Jeremy: Yeah, man mess. Why do you think they're called \"man size?\"                                                                                                                                                                                                                                                                                                 </td></tr>\n",
       "</tbody>\n",
       "</table>\n"
      ],
      "text/latex": [
       "A tibble: 20 × 1\n",
       "\\begin{tabular}{l}\n",
       " content\\\\\n",
       " <chr>\\\\\n",
       "\\hline\n",
       "\t On The Pull                                                                                                                                                                                                                                                                                                                                                         \\\\\n",
       "\t Season 1                                                                                                                                                                                                                                                                                                                                                            \\\\\n",
       "\t Episode 3                                                                                                                                                                                                                                                                                                                                                           \\\\\n",
       "\t 03/10/2003                                                                                                                                                                                                                                                                                                                                                          \\\\\n",
       "\t On The Pull is the third episode of the British sitcom Peep Show. It first aired on 3rd October 2003. It was written by Jesse Armstrong and Sam Bain. It was directed by Jeremy Wooding. Lines in parentheses indicate internal monologues spoken by the characters via voice-over.                                                                                 \\\\\n",
       "\t Transcript                                                                                                                                                                                                                                                                                                                                                          \\\\\n",
       "\t {[}Mark is shopping in the supermarket{]}                                                                                                                                                                                                                                                                                                                               \\\\\n",
       "\t Mark: (Life's all pain. Pain, rejection and gloom. Why do we even pretend there's anything other than a yawning blankness at the heart of-) {[}Picks up a can of soup{]} (Hey! 33\\% extra free. I am doing excellent shopping. My depressed state of mind means I am being even more frugal than normal.)                                                                \\\\\n",
       "\t {[}Jez joins him{]}                                                                                                                                                                                                                                                                                                                                                     \\\\\n",
       "\t Jeremy: Mark!                                                                                                                                                                                                                                                                                                                                                       \\\\\n",
       "\t Mark: Hey Jeremy.                                                                                                                                                                                                                                                                                                                                                   \\\\\n",
       "\t Jeremy: You do realize tinned food is just for crackheads and wars. {[}Picks up a bottle of extra-virgin olive oil{]}                                                                                                                                                                                                                                                   \\\\\n",
       "\t Mark: Oh no, mate. This stuff is 78 pence a hundred millilitres. {[}Puts the olive oil back{]}                                                                                                                                                                                                                                                                          \\\\\n",
       "\t Jeremy: Yeah, it's first pressing, or do you want to wait until everyone else has had their fun with the olives? Fourth pressing, yeah, like that's going to be a party in your mouth. I don't think.                                                                                                                                                               \\\\\n",
       "\t Mark: Look Jeremy, we've been through this before. I do the joint shopping solo because I don't make impulse purchases and I'm less swayed by the power of-                                                                                                                                                                                                         \\\\\n",
       "\t Jeremy: Mark! I'm not shopping. I just came here to tell you we've been invited to a very wicked party.                                                                                                                                                                                                                                                             \\\\\n",
       "\t Mark: Do I look like the kind of man who goes to wicked parties? Why don't you ask Toni?                                                                                                                                                                                                                                                                            \\\\\n",
       "\t Jeremy: I did actually but she said no. But it's better this way, two lads, we gotta get out there, grooving, doing it, you know? It's been a long time for either of us. I haven't had my oats in something like, two weeks! (Nine months and thirteen days.) I mean look at us! {[}Holds up a box of tissues{]} People are gonna think we spend the whole day wanking.\\\\\n",
       "\t Mark: Don't be ridiculous, they're homey. They're for wiping up mess.                                                                                                                                                                                                                                                                                               \\\\\n",
       "\t Jeremy: Yeah, man mess. Why do you think they're called \"man size?\"                                                                                                                                                                                                                                                                                                 \\\\\n",
       "\\end{tabular}\n"
      ],
      "text/markdown": [
       "\n",
       "A tibble: 20 × 1\n",
       "\n",
       "| content &lt;chr&gt; |\n",
       "|---|\n",
       "| On The Pull                                                                                                                                                                                                                                                                                                                                                          |\n",
       "| Season 1                                                                                                                                                                                                                                                                                                                                                             |\n",
       "| Episode 3                                                                                                                                                                                                                                                                                                                                                            |\n",
       "| 03/10/2003                                                                                                                                                                                                                                                                                                                                                           |\n",
       "| On The Pull is the third episode of the British sitcom Peep Show. It first aired on 3rd October 2003. It was written by Jesse Armstrong and Sam Bain. It was directed by Jeremy Wooding. Lines in parentheses indicate internal monologues spoken by the characters via voice-over.                                                                                  |\n",
       "| Transcript                                                                                                                                                                                                                                                                                                                                                           |\n",
       "| [Mark is shopping in the supermarket]                                                                                                                                                                                                                                                                                                                                |\n",
       "| Mark: (Life's all pain. Pain, rejection and gloom. Why do we even pretend there's anything other than a yawning blankness at the heart of-) [Picks up a can of soup] (Hey! 33% extra free. I am doing excellent shopping. My depressed state of mind means I am being even more frugal than normal.)                                                                 |\n",
       "| [Jez joins him]                                                                                                                                                                                                                                                                                                                                                      |\n",
       "| Jeremy: Mark!                                                                                                                                                                                                                                                                                                                                                        |\n",
       "| Mark: Hey Jeremy.                                                                                                                                                                                                                                                                                                                                                    |\n",
       "| Jeremy: You do realize tinned food is just for crackheads and wars. [Picks up a bottle of extra-virgin olive oil]                                                                                                                                                                                                                                                    |\n",
       "| Mark: Oh no, mate. This stuff is 78 pence a hundred millilitres. [Puts the olive oil back]                                                                                                                                                                                                                                                                           |\n",
       "| Jeremy: Yeah, it's first pressing, or do you want to wait until everyone else has had their fun with the olives? Fourth pressing, yeah, like that's going to be a party in your mouth. I don't think.                                                                                                                                                                |\n",
       "| Mark: Look Jeremy, we've been through this before. I do the joint shopping solo because I don't make impulse purchases and I'm less swayed by the power of-                                                                                                                                                                                                          |\n",
       "| Jeremy: Mark! I'm not shopping. I just came here to tell you we've been invited to a very wicked party.                                                                                                                                                                                                                                                              |\n",
       "| Mark: Do I look like the kind of man who goes to wicked parties? Why don't you ask Toni?                                                                                                                                                                                                                                                                             |\n",
       "| Jeremy: I did actually but she said no. But it's better this way, two lads, we gotta get out there, grooving, doing it, you know? It's been a long time for either of us. I haven't had my oats in something like, two weeks! (Nine months and thirteen days.) I mean look at us! [Holds up a box of tissues] People are gonna think we spend the whole day wanking. |\n",
       "| Mark: Don't be ridiculous, they're homey. They're for wiping up mess.                                                                                                                                                                                                                                                                                                |\n",
       "| Jeremy: Yeah, man mess. Why do you think they're called \"man size?\"                                                                                                                                                                                                                                                                                                  |\n",
       "\n"
      ],
      "text/plain": [
       "   content                                                                                                                                                                                                                                                                                                                                                             \n",
       "1  On The Pull                                                                                                                                                                                                                                                                                                                                                         \n",
       "2  Season 1                                                                                                                                                                                                                                                                                                                                                            \n",
       "3  Episode 3                                                                                                                                                                                                                                                                                                                                                           \n",
       "4  03/10/2003                                                                                                                                                                                                                                                                                                                                                          \n",
       "5  On The Pull is the third episode of the British sitcom Peep Show. It first aired on 3rd October 2003. It was written by Jesse Armstrong and Sam Bain. It was directed by Jeremy Wooding. Lines in parentheses indicate internal monologues spoken by the characters via voice-over.                                                                                 \n",
       "6  Transcript                                                                                                                                                                                                                                                                                                                                                          \n",
       "7  [Mark is shopping in the supermarket]                                                                                                                                                                                                                                                                                                                               \n",
       "8  Mark: (Life's all pain. Pain, rejection and gloom. Why do we even pretend there's anything other than a yawning blankness at the heart of-) [Picks up a can of soup] (Hey! 33% extra free. I am doing excellent shopping. My depressed state of mind means I am being even more frugal than normal.)                                                                \n",
       "9  [Jez joins him]                                                                                                                                                                                                                                                                                                                                                     \n",
       "10 Jeremy: Mark!                                                                                                                                                                                                                                                                                                                                                       \n",
       "11 Mark: Hey Jeremy.                                                                                                                                                                                                                                                                                                                                                   \n",
       "12 Jeremy: You do realize tinned food is just for crackheads and wars. [Picks up a bottle of extra-virgin olive oil]                                                                                                                                                                                                                                                   \n",
       "13 Mark: Oh no, mate. This stuff is 78 pence a hundred millilitres. [Puts the olive oil back]                                                                                                                                                                                                                                                                          \n",
       "14 Jeremy: Yeah, it's first pressing, or do you want to wait until everyone else has had their fun with the olives? Fourth pressing, yeah, like that's going to be a party in your mouth. I don't think.                                                                                                                                                               \n",
       "15 Mark: Look Jeremy, we've been through this before. I do the joint shopping solo because I don't make impulse purchases and I'm less swayed by the power of-                                                                                                                                                                                                         \n",
       "16 Jeremy: Mark! I'm not shopping. I just came here to tell you we've been invited to a very wicked party.                                                                                                                                                                                                                                                             \n",
       "17 Mark: Do I look like the kind of man who goes to wicked parties? Why don't you ask Toni?                                                                                                                                                                                                                                                                            \n",
       "18 Jeremy: I did actually but she said no. But it's better this way, two lads, we gotta get out there, grooving, doing it, you know? It's been a long time for either of us. I haven't had my oats in something like, two weeks! (Nine months and thirteen days.) I mean look at us! [Holds up a box of tissues] People are gonna think we spend the whole day wanking.\n",
       "19 Mark: Don't be ridiculous, they're homey. They're for wiping up mess.                                                                                                                                                                                                                                                                                               \n",
       "20 Jeremy: Yeah, man mess. Why do you think they're called \"man size?\"                                                                                                                                                                                                                                                                                                 "
      ]
     },
     "metadata": {},
     "output_type": "display_data"
    }
   ],
   "source": [
    "# Import test data and preview\n",
    "ep = readLines(\"../input/peep-show-raw-transcripts/s01e03.txt\") %>% tibble(content = .) %>% subset(content != \"\")\n",
    "head(ep,20)"
   ]
  },
  {
   "cell_type": "code",
   "execution_count": 3,
   "metadata": {
    "execution": {
     "iopub.execute_input": "2021-02-26T05:32:45.714152Z",
     "iopub.status.busy": "2021-02-26T05:32:45.712912Z",
     "iopub.status.idle": "2021-02-26T05:32:45.791016Z",
     "shell.execute_reply": "2021-02-26T05:32:45.789617Z"
    },
    "papermill": {
     "duration": 0.093924,
     "end_time": "2021-02-26T05:32:45.791183",
     "exception": false,
     "start_time": "2021-02-26T05:32:45.697259",
     "status": "completed"
    },
    "tags": []
   },
   "outputs": [
    {
     "data": {
      "text/html": [
       "<table class=\"dataframe\">\n",
       "<caption>A tibble: 10 × 2</caption>\n",
       "<thead>\n",
       "\t<tr><th scope=col>content</th><th scope=col>text_type</th></tr>\n",
       "\t<tr><th scope=col>&lt;chr&gt;</th><th scope=col>&lt;chr&gt;</th></tr>\n",
       "</thead>\n",
       "<tbody>\n",
       "\t<tr><td>On The Pull                                                                                                                                                                                                                                                                                         </td><td>Other     </td></tr>\n",
       "\t<tr><td>Season 1                                                                                                                                                                                                                                                                                            </td><td>Other     </td></tr>\n",
       "\t<tr><td>Episode 3                                                                                                                                                                                                                                                                                           </td><td>Other     </td></tr>\n",
       "\t<tr><td>03/10/2003                                                                                                                                                                                                                                                                                          </td><td>Other     </td></tr>\n",
       "\t<tr><td>On The Pull is the third episode of the British sitcom Peep Show. It first aired on 3rd October 2003. It was written by Jesse Armstrong and Sam Bain. It was directed by Jeremy Wooding. Lines in parentheses indicate internal monologues spoken by the characters via voice-over.                 </td><td>Other     </td></tr>\n",
       "\t<tr><td>Transcript                                                                                                                                                                                                                                                                                          </td><td>Other     </td></tr>\n",
       "\t<tr><td>[Mark is shopping in the supermarket]                                                                                                                                                                                                                                                               </td><td>Directions</td></tr>\n",
       "\t<tr><td>Mark: (Life's all pain. Pain, rejection and gloom. Why do we even pretend there's anything other than a yawning blankness at the heart of-) [Picks up a can of soup] (Hey! 33% extra free. I am doing excellent shopping. My depressed state of mind means I am being even more frugal than normal.)</td><td>Script    </td></tr>\n",
       "\t<tr><td>[Jez joins him]                                                                                                                                                                                                                                                                                     </td><td>Directions</td></tr>\n",
       "\t<tr><td>Jeremy: Mark!                                                                                                                                                                                                                                                                                       </td><td>Script    </td></tr>\n",
       "</tbody>\n",
       "</table>\n"
      ],
      "text/latex": [
       "A tibble: 10 × 2\n",
       "\\begin{tabular}{ll}\n",
       " content & text\\_type\\\\\n",
       " <chr> & <chr>\\\\\n",
       "\\hline\n",
       "\t On The Pull                                                                                                                                                                                                                                                                                          & Other     \\\\\n",
       "\t Season 1                                                                                                                                                                                                                                                                                             & Other     \\\\\n",
       "\t Episode 3                                                                                                                                                                                                                                                                                            & Other     \\\\\n",
       "\t 03/10/2003                                                                                                                                                                                                                                                                                           & Other     \\\\\n",
       "\t On The Pull is the third episode of the British sitcom Peep Show. It first aired on 3rd October 2003. It was written by Jesse Armstrong and Sam Bain. It was directed by Jeremy Wooding. Lines in parentheses indicate internal monologues spoken by the characters via voice-over.                  & Other     \\\\\n",
       "\t Transcript                                                                                                                                                                                                                                                                                           & Other     \\\\\n",
       "\t {[}Mark is shopping in the supermarket{]}                                                                                                                                                                                                                                                                & Directions\\\\\n",
       "\t Mark: (Life's all pain. Pain, rejection and gloom. Why do we even pretend there's anything other than a yawning blankness at the heart of-) {[}Picks up a can of soup{]} (Hey! 33\\% extra free. I am doing excellent shopping. My depressed state of mind means I am being even more frugal than normal.) & Script    \\\\\n",
       "\t {[}Jez joins him{]}                                                                                                                                                                                                                                                                                      & Directions\\\\\n",
       "\t Jeremy: Mark!                                                                                                                                                                                                                                                                                        & Script    \\\\\n",
       "\\end{tabular}\n"
      ],
      "text/markdown": [
       "\n",
       "A tibble: 10 × 2\n",
       "\n",
       "| content &lt;chr&gt; | text_type &lt;chr&gt; |\n",
       "|---|---|\n",
       "| On The Pull                                                                                                                                                                                                                                                                                          | Other      |\n",
       "| Season 1                                                                                                                                                                                                                                                                                             | Other      |\n",
       "| Episode 3                                                                                                                                                                                                                                                                                            | Other      |\n",
       "| 03/10/2003                                                                                                                                                                                                                                                                                           | Other      |\n",
       "| On The Pull is the third episode of the British sitcom Peep Show. It first aired on 3rd October 2003. It was written by Jesse Armstrong and Sam Bain. It was directed by Jeremy Wooding. Lines in parentheses indicate internal monologues spoken by the characters via voice-over.                  | Other      |\n",
       "| Transcript                                                                                                                                                                                                                                                                                           | Other      |\n",
       "| [Mark is shopping in the supermarket]                                                                                                                                                                                                                                                                | Directions |\n",
       "| Mark: (Life's all pain. Pain, rejection and gloom. Why do we even pretend there's anything other than a yawning blankness at the heart of-) [Picks up a can of soup] (Hey! 33% extra free. I am doing excellent shopping. My depressed state of mind means I am being even more frugal than normal.) | Script     |\n",
       "| [Jez joins him]                                                                                                                                                                                                                                                                                      | Directions |\n",
       "| Jeremy: Mark!                                                                                                                                                                                                                                                                                        | Script     |\n",
       "\n"
      ],
      "text/plain": [
       "   content                                                                                                                                                                                                                                                                                             \n",
       "1  On The Pull                                                                                                                                                                                                                                                                                         \n",
       "2  Season 1                                                                                                                                                                                                                                                                                            \n",
       "3  Episode 3                                                                                                                                                                                                                                                                                           \n",
       "4  03/10/2003                                                                                                                                                                                                                                                                                          \n",
       "5  On The Pull is the third episode of the British sitcom Peep Show. It first aired on 3rd October 2003. It was written by Jesse Armstrong and Sam Bain. It was directed by Jeremy Wooding. Lines in parentheses indicate internal monologues spoken by the characters via voice-over.                 \n",
       "6  Transcript                                                                                                                                                                                                                                                                                          \n",
       "7  [Mark is shopping in the supermarket]                                                                                                                                                                                                                                                               \n",
       "8  Mark: (Life's all pain. Pain, rejection and gloom. Why do we even pretend there's anything other than a yawning blankness at the heart of-) [Picks up a can of soup] (Hey! 33% extra free. I am doing excellent shopping. My depressed state of mind means I am being even more frugal than normal.)\n",
       "9  [Jez joins him]                                                                                                                                                                                                                                                                                     \n",
       "10 Jeremy: Mark!                                                                                                                                                                                                                                                                                       \n",
       "   text_type \n",
       "1  Other     \n",
       "2  Other     \n",
       "3  Other     \n",
       "4  Other     \n",
       "5  Other     \n",
       "6  Other     \n",
       "7  Directions\n",
       "8  Script    \n",
       "9  Directions\n",
       "10 Script    "
      ]
     },
     "metadata": {},
     "output_type": "display_data"
    },
    {
     "data": {
      "text/html": [
       "<table class=\"dataframe\">\n",
       "<caption>A tibble: 6 × 2</caption>\n",
       "<thead>\n",
       "\t<tr><th scope=col>content</th><th scope=col>text_type</th></tr>\n",
       "\t<tr><th scope=col>&lt;chr&gt;</th><th scope=col>&lt;chr&gt;</th></tr>\n",
       "</thead>\n",
       "<tbody>\n",
       "\t<tr><td>On The Pull                                                                                                                                                                                                                                                                        </td><td>Other</td></tr>\n",
       "\t<tr><td>Season 1                                                                                                                                                                                                                                                                           </td><td>Other</td></tr>\n",
       "\t<tr><td>Episode 3                                                                                                                                                                                                                                                                          </td><td>Other</td></tr>\n",
       "\t<tr><td>03/10/2003                                                                                                                                                                                                                                                                         </td><td>Other</td></tr>\n",
       "\t<tr><td>On The Pull is the third episode of the British sitcom Peep Show. It first aired on 3rd October 2003. It was written by Jesse Armstrong and Sam Bain. It was directed by Jeremy Wooding. Lines in parentheses indicate internal monologues spoken by the characters via voice-over.</td><td>Other</td></tr>\n",
       "\t<tr><td>Transcript                                                                                                                                                                                                                                                                         </td><td>Other</td></tr>\n",
       "</tbody>\n",
       "</table>\n"
      ],
      "text/latex": [
       "A tibble: 6 × 2\n",
       "\\begin{tabular}{ll}\n",
       " content & text\\_type\\\\\n",
       " <chr> & <chr>\\\\\n",
       "\\hline\n",
       "\t On The Pull                                                                                                                                                                                                                                                                         & Other\\\\\n",
       "\t Season 1                                                                                                                                                                                                                                                                            & Other\\\\\n",
       "\t Episode 3                                                                                                                                                                                                                                                                           & Other\\\\\n",
       "\t 03/10/2003                                                                                                                                                                                                                                                                          & Other\\\\\n",
       "\t On The Pull is the third episode of the British sitcom Peep Show. It first aired on 3rd October 2003. It was written by Jesse Armstrong and Sam Bain. It was directed by Jeremy Wooding. Lines in parentheses indicate internal monologues spoken by the characters via voice-over. & Other\\\\\n",
       "\t Transcript                                                                                                                                                                                                                                                                          & Other\\\\\n",
       "\\end{tabular}\n"
      ],
      "text/markdown": [
       "\n",
       "A tibble: 6 × 2\n",
       "\n",
       "| content &lt;chr&gt; | text_type &lt;chr&gt; |\n",
       "|---|---|\n",
       "| On The Pull                                                                                                                                                                                                                                                                         | Other |\n",
       "| Season 1                                                                                                                                                                                                                                                                            | Other |\n",
       "| Episode 3                                                                                                                                                                                                                                                                           | Other |\n",
       "| 03/10/2003                                                                                                                                                                                                                                                                          | Other |\n",
       "| On The Pull is the third episode of the British sitcom Peep Show. It first aired on 3rd October 2003. It was written by Jesse Armstrong and Sam Bain. It was directed by Jeremy Wooding. Lines in parentheses indicate internal monologues spoken by the characters via voice-over. | Other |\n",
       "| Transcript                                                                                                                                                                                                                                                                          | Other |\n",
       "\n"
      ],
      "text/plain": [
       "  content                                                                                                                                                                                                                                                                            \n",
       "1 On The Pull                                                                                                                                                                                                                                                                        \n",
       "2 Season 1                                                                                                                                                                                                                                                                           \n",
       "3 Episode 3                                                                                                                                                                                                                                                                          \n",
       "4 03/10/2003                                                                                                                                                                                                                                                                         \n",
       "5 On The Pull is the third episode of the British sitcom Peep Show. It first aired on 3rd October 2003. It was written by Jesse Armstrong and Sam Bain. It was directed by Jeremy Wooding. Lines in parentheses indicate internal monologues spoken by the characters via voice-over.\n",
       "6 Transcript                                                                                                                                                                                                                                                                         \n",
       "  text_type\n",
       "1 Other    \n",
       "2 Other    \n",
       "3 Other    \n",
       "4 Other    \n",
       "5 Other    \n",
       "6 Other    "
      ]
     },
     "metadata": {},
     "output_type": "display_data"
    }
   ],
   "source": [
    "# Categorise each line of transcript\n",
    "ep <- mutate(\n",
    "  ep,\n",
    "  text_type = case_when(\n",
    "    str_detect(content, \":\") == TRUE ~ \"Script\",\n",
    "    str_detect(content, \"\\\\[\") == TRUE ~ \"Directions\",\n",
    "    TRUE ~ \"Other\"\n",
    "  )\n",
    ")\n",
    "# Preview data\n",
    "head(ep,10)\n",
    "# Ensure no other lines have been categorised as other except for the first 6\n",
    "head(subset(ep,text_type = \"Other\"))"
   ]
  },
  {
   "cell_type": "code",
   "execution_count": 4,
   "metadata": {
    "execution": {
     "iopub.execute_input": "2021-02-26T05:32:45.825588Z",
     "iopub.status.busy": "2021-02-26T05:32:45.824372Z",
     "iopub.status.idle": "2021-02-26T05:32:45.845504Z",
     "shell.execute_reply": "2021-02-26T05:32:45.844332Z"
    },
    "papermill": {
     "duration": 0.039642,
     "end_time": "2021-02-26T05:32:45.845683",
     "exception": false,
     "start_time": "2021-02-26T05:32:45.806041",
     "status": "completed"
    },
    "tags": []
   },
   "outputs": [],
   "source": [
    "# Episode information extraction\n",
    "episode_name <- ep[1,1] %>% pull\n",
    "episode_date <- ep[4,1] %>% pull\n",
    "episode_number <- ep[3,1] %>% pull %>% substr(9,9)\n",
    "season_number <- ep[2,1] %>% pull %>% substr(8,8)"
   ]
  },
  {
   "cell_type": "code",
   "execution_count": 5,
   "metadata": {
    "execution": {
     "iopub.execute_input": "2021-02-26T05:32:45.879465Z",
     "iopub.status.busy": "2021-02-26T05:32:45.877778Z",
     "iopub.status.idle": "2021-02-26T05:32:45.943730Z",
     "shell.execute_reply": "2021-02-26T05:32:45.942201Z"
    },
    "papermill": {
     "duration": 0.084312,
     "end_time": "2021-02-26T05:32:45.944059",
     "exception": false,
     "start_time": "2021-02-26T05:32:45.859747",
     "status": "completed"
    },
    "tags": []
   },
   "outputs": [
    {
     "data": {
      "text/html": [
       "<table class=\"dataframe\">\n",
       "<caption>A tibble: 6 × 6</caption>\n",
       "<thead>\n",
       "\t<tr><th scope=col>content</th><th scope=col>text_type</th><th scope=col>season_number</th><th scope=col>episode_number</th><th scope=col>episode_name</th><th scope=col>episode_date</th></tr>\n",
       "\t<tr><th scope=col>&lt;chr&gt;</th><th scope=col>&lt;chr&gt;</th><th scope=col>&lt;chr&gt;</th><th scope=col>&lt;chr&gt;</th><th scope=col>&lt;chr&gt;</th><th scope=col>&lt;chr&gt;</th></tr>\n",
       "</thead>\n",
       "<tbody>\n",
       "\t<tr><td>[Mark is shopping in the supermarket]                                                                                                                                                                                                                                                               </td><td>Directions</td><td>1</td><td>3</td><td>On The Pull</td><td>03/10/2003</td></tr>\n",
       "\t<tr><td>Mark: (Life's all pain. Pain, rejection and gloom. Why do we even pretend there's anything other than a yawning blankness at the heart of-) [Picks up a can of soup] (Hey! 33% extra free. I am doing excellent shopping. My depressed state of mind means I am being even more frugal than normal.)</td><td>Script    </td><td>1</td><td>3</td><td>On The Pull</td><td>03/10/2003</td></tr>\n",
       "\t<tr><td>[Jez joins him]                                                                                                                                                                                                                                                                                     </td><td>Directions</td><td>1</td><td>3</td><td>On The Pull</td><td>03/10/2003</td></tr>\n",
       "\t<tr><td>Jeremy: Mark!                                                                                                                                                                                                                                                                                       </td><td>Script    </td><td>1</td><td>3</td><td>On The Pull</td><td>03/10/2003</td></tr>\n",
       "\t<tr><td>Mark: Hey Jeremy.                                                                                                                                                                                                                                                                                   </td><td>Script    </td><td>1</td><td>3</td><td>On The Pull</td><td>03/10/2003</td></tr>\n",
       "\t<tr><td>Jeremy: You do realize tinned food is just for crackheads and wars. [Picks up a bottle of extra-virgin olive oil]                                                                                                                                                                                   </td><td>Script    </td><td>1</td><td>3</td><td>On The Pull</td><td>03/10/2003</td></tr>\n",
       "</tbody>\n",
       "</table>\n"
      ],
      "text/latex": [
       "A tibble: 6 × 6\n",
       "\\begin{tabular}{llllll}\n",
       " content & text\\_type & season\\_number & episode\\_number & episode\\_name & episode\\_date\\\\\n",
       " <chr> & <chr> & <chr> & <chr> & <chr> & <chr>\\\\\n",
       "\\hline\n",
       "\t {[}Mark is shopping in the supermarket{]}                                                                                                                                                                                                                                                                & Directions & 1 & 3 & On The Pull & 03/10/2003\\\\\n",
       "\t Mark: (Life's all pain. Pain, rejection and gloom. Why do we even pretend there's anything other than a yawning blankness at the heart of-) {[}Picks up a can of soup{]} (Hey! 33\\% extra free. I am doing excellent shopping. My depressed state of mind means I am being even more frugal than normal.) & Script     & 1 & 3 & On The Pull & 03/10/2003\\\\\n",
       "\t {[}Jez joins him{]}                                                                                                                                                                                                                                                                                      & Directions & 1 & 3 & On The Pull & 03/10/2003\\\\\n",
       "\t Jeremy: Mark!                                                                                                                                                                                                                                                                                        & Script     & 1 & 3 & On The Pull & 03/10/2003\\\\\n",
       "\t Mark: Hey Jeremy.                                                                                                                                                                                                                                                                                    & Script     & 1 & 3 & On The Pull & 03/10/2003\\\\\n",
       "\t Jeremy: You do realize tinned food is just for crackheads and wars. {[}Picks up a bottle of extra-virgin olive oil{]}                                                                                                                                                                                    & Script     & 1 & 3 & On The Pull & 03/10/2003\\\\\n",
       "\\end{tabular}\n"
      ],
      "text/markdown": [
       "\n",
       "A tibble: 6 × 6\n",
       "\n",
       "| content &lt;chr&gt; | text_type &lt;chr&gt; | season_number &lt;chr&gt; | episode_number &lt;chr&gt; | episode_name &lt;chr&gt; | episode_date &lt;chr&gt; |\n",
       "|---|---|---|---|---|---|\n",
       "| [Mark is shopping in the supermarket]                                                                                                                                                                                                                                                                | Directions | 1 | 3 | On The Pull | 03/10/2003 |\n",
       "| Mark: (Life's all pain. Pain, rejection and gloom. Why do we even pretend there's anything other than a yawning blankness at the heart of-) [Picks up a can of soup] (Hey! 33% extra free. I am doing excellent shopping. My depressed state of mind means I am being even more frugal than normal.) | Script     | 1 | 3 | On The Pull | 03/10/2003 |\n",
       "| [Jez joins him]                                                                                                                                                                                                                                                                                      | Directions | 1 | 3 | On The Pull | 03/10/2003 |\n",
       "| Jeremy: Mark!                                                                                                                                                                                                                                                                                        | Script     | 1 | 3 | On The Pull | 03/10/2003 |\n",
       "| Mark: Hey Jeremy.                                                                                                                                                                                                                                                                                    | Script     | 1 | 3 | On The Pull | 03/10/2003 |\n",
       "| Jeremy: You do realize tinned food is just for crackheads and wars. [Picks up a bottle of extra-virgin olive oil]                                                                                                                                                                                    | Script     | 1 | 3 | On The Pull | 03/10/2003 |\n",
       "\n"
      ],
      "text/plain": [
       "  content                                                                                                                                                                                                                                                                                             \n",
       "1 [Mark is shopping in the supermarket]                                                                                                                                                                                                                                                               \n",
       "2 Mark: (Life's all pain. Pain, rejection and gloom. Why do we even pretend there's anything other than a yawning blankness at the heart of-) [Picks up a can of soup] (Hey! 33% extra free. I am doing excellent shopping. My depressed state of mind means I am being even more frugal than normal.)\n",
       "3 [Jez joins him]                                                                                                                                                                                                                                                                                     \n",
       "4 Jeremy: Mark!                                                                                                                                                                                                                                                                                       \n",
       "5 Mark: Hey Jeremy.                                                                                                                                                                                                                                                                                   \n",
       "6 Jeremy: You do realize tinned food is just for crackheads and wars. [Picks up a bottle of extra-virgin olive oil]                                                                                                                                                                                   \n",
       "  text_type  season_number episode_number episode_name episode_date\n",
       "1 Directions 1             3              On The Pull  03/10/2003  \n",
       "2 Script     1             3              On The Pull  03/10/2003  \n",
       "3 Directions 1             3              On The Pull  03/10/2003  \n",
       "4 Script     1             3              On The Pull  03/10/2003  \n",
       "5 Script     1             3              On The Pull  03/10/2003  \n",
       "6 Script     1             3              On The Pull  03/10/2003  "
      ]
     },
     "metadata": {},
     "output_type": "display_data"
    }
   ],
   "source": [
    "# Add the episode information as new columns then preview\n",
    "ep <- mutate(\n",
    "  ep,\n",
    "  season_number = season_number,\n",
    "  episode_number = episode_number,\n",
    "  episode_name = episode_name,\n",
    "  episode_date = episode_date\n",
    ") %>% tail(-6)\n",
    "head(ep)"
   ]
  },
  {
   "cell_type": "code",
   "execution_count": 6,
   "metadata": {
    "execution": {
     "iopub.execute_input": "2021-02-26T05:32:45.980235Z",
     "iopub.status.busy": "2021-02-26T05:32:45.978618Z",
     "iopub.status.idle": "2021-02-26T05:32:46.007424Z",
     "shell.execute_reply": "2021-02-26T05:32:46.006077Z"
    },
    "papermill": {
     "duration": 0.048222,
     "end_time": "2021-02-26T05:32:46.007600",
     "exception": false,
     "start_time": "2021-02-26T05:32:45.959378",
     "status": "completed"
    },
    "tags": []
   },
   "outputs": [],
   "source": [
    "# Create a character column and assign the name of that character appropriately\n",
    "ep <- cbind(ep, colsplit(ep$content, \":\", names = c(\"character\",\"content2\"))) %>% \n",
    "select(-content) %>% \n",
    "rename(content = content2) %>%\n",
    "mutate(content = \n",
    "       ifelse(text_type == \"Directions\", character, content),\n",
    "       character = \n",
    "       ifelse(text_type == \"Directions\", \"Directions\", character))"
   ]
  },
  {
   "cell_type": "code",
   "execution_count": 7,
   "metadata": {
    "execution": {
     "iopub.execute_input": "2021-02-26T05:32:46.044142Z",
     "iopub.status.busy": "2021-02-26T05:32:46.042402Z",
     "iopub.status.idle": "2021-02-26T05:32:46.068657Z",
     "shell.execute_reply": "2021-02-26T05:32:46.067185Z"
    },
    "papermill": {
     "duration": 0.045754,
     "end_time": "2021-02-26T05:32:46.068814",
     "exception": false,
     "start_time": "2021-02-26T05:32:46.023060",
     "status": "completed"
    },
    "tags": []
   },
   "outputs": [],
   "source": [
    "# Create a list of all individual transcript files for looping\n",
    "dir <- \"../input/peep-show-raw-transcripts\"\n",
    "filenames <- list.files(path = dir, pattern=\"*.txt\")\n",
    "datalist <- list()"
   ]
  },
  {
   "cell_type": "code",
   "execution_count": 8,
   "metadata": {
    "execution": {
     "iopub.execute_input": "2021-02-26T05:32:46.105787Z",
     "iopub.status.busy": "2021-02-26T05:32:46.104002Z",
     "iopub.status.idle": "2021-02-26T05:32:47.179071Z",
     "shell.execute_reply": "2021-02-26T05:32:47.176524Z"
    },
    "papermill": {
     "duration": 1.094888,
     "end_time": "2021-02-26T05:32:47.179235",
     "exception": false,
     "start_time": "2021-02-26T05:32:46.084347",
     "status": "completed"
    },
    "tags": []
   },
   "outputs": [],
   "source": [
    "# Loop through each file\n",
    "for(i in filenames) {\n",
    "  filepath <-\n",
    "    file.path(paste0(\"../input/peep-show-raw-transcripts/\", i))\n",
    "  extract <-\n",
    "    readLines(filepath) %>%\n",
    "    tibble(content = .)\n",
    "  episode_name <-\n",
    "    extract[1, 1] %>% pull\n",
    "  episode_date <-\n",
    "    extract[4, 1] %>% pull\n",
    "  episode_number <-\n",
    "    extract[3, 1] %>% pull\n",
    "  season_number <-\n",
    "    extract[2, 1] %>% pull\n",
    "  datalist[[i]] <-\n",
    "    assign(\n",
    "      i,\n",
    "      readLines(filepath) %>%\n",
    "        tibble(content = .) %>%\n",
    "        subset(content != \"\") %>%\n",
    "        mutate(\n",
    "          text_type = case_when(\n",
    "            str_detect(content, \":\") == TRUE ~ \"Script\",\n",
    "            str_detect(content, \"\\\\[\") == TRUE ~ \"Directions\",\n",
    "            TRUE ~ \"Other\"\n",
    "          )\n",
    "        ) %>%\n",
    "        mutate(\n",
    "          season_number = season_number,\n",
    "          episode_number = episode_number,\n",
    "          episode_name = episode_name,\n",
    "          episode_date = episode_date\n",
    "        ) %>%\n",
    "        tail(-6)\n",
    "    )\n",
    "}"
   ]
  },
  {
   "cell_type": "code",
   "execution_count": 9,
   "metadata": {
    "execution": {
     "iopub.execute_input": "2021-02-26T05:32:47.218960Z",
     "iopub.status.busy": "2021-02-26T05:32:47.217630Z",
     "iopub.status.idle": "2021-02-26T05:32:47.239523Z",
     "shell.execute_reply": "2021-02-26T05:32:47.238440Z"
    },
    "papermill": {
     "duration": 0.044625,
     "end_time": "2021-02-26T05:32:47.239697",
     "exception": false,
     "start_time": "2021-02-26T05:32:47.195072",
     "status": "completed"
    },
    "tags": []
   },
   "outputs": [],
   "source": [
    "# First create the base table\n",
    "concat <-\n",
    "  bind_rows(datalist, .id = \"column_label\") %>%\n",
    "  mutate(episode_index = cumsum(ifelse(\n",
    "    episode_number != lag(episode_number) |\n",
    "      is.na(lag(episode_number)), 1, 0\n",
    "  )))"
   ]
  },
  {
   "cell_type": "code",
   "execution_count": 10,
   "metadata": {
    "execution": {
     "iopub.execute_input": "2021-02-26T05:32:47.277179Z",
     "iopub.status.busy": "2021-02-26T05:32:47.275934Z",
     "iopub.status.idle": "2021-02-26T05:32:47.452730Z",
     "shell.execute_reply": "2021-02-26T05:32:47.451213Z"
    },
    "papermill": {
     "duration": 0.197043,
     "end_time": "2021-02-26T05:32:47.452881",
     "exception": false,
     "start_time": "2021-02-26T05:32:47.255838",
     "status": "completed"
    },
    "tags": []
   },
   "outputs": [],
   "source": [
    "# Split the content field to get the speaking character's name and re-bind\n",
    "peepshow <-\n",
    "  select(concat,-column_label) %>%\n",
    "  cbind(colsplit(concat$content, \":\", names = c(\"character\", \"content2\"))) %>%\n",
    "  select(-content) %>%\n",
    "  rename(content = content2) %>%\n",
    "  mutate(\n",
    "    content = ifelse(text_type == \"Directions\", trimws(character), trimws(content)),\n",
    "    character = ifelse(text_type == \"Directions\", \"Directions\", trimws(character))\n",
    "  ) %>%\n",
    "  mutate(\n",
    "    character = str_replace_all(character, \"Johnson\", \"Alan\"),\n",
    "    content = str_replace_all(content, \"knuckle head\", \"knucklehead\")) %>%\n",
    "  select(-text_type) %>%\n",
    "  # Create an episode index\n",
    "  mutate(episode_index = cumsum(ifelse(\n",
    "    episode_number != lag(episode_number) |\n",
    "      is.na(lag(episode_number)), 1, 0\n",
    "  ))) %>%\n",
    "  # Create a unique ID\n",
    "  rowid_to_column(\"index\") %>%\n",
    "  # Reorder fields\n",
    "  select(index,episode_index,season_number,episode_number,episode_name,episode_date,character,content)"
   ]
  },
  {
   "cell_type": "code",
   "execution_count": 11,
   "metadata": {
    "execution": {
     "iopub.execute_input": "2021-02-26T05:32:47.490739Z",
     "iopub.status.busy": "2021-02-26T05:32:47.488969Z",
     "iopub.status.idle": "2021-02-26T05:32:47.515941Z",
     "shell.execute_reply": "2021-02-26T05:32:47.514420Z"
    },
    "papermill": {
     "duration": 0.046975,
     "end_time": "2021-02-26T05:32:47.516085",
     "exception": false,
     "start_time": "2021-02-26T05:32:47.469110",
     "status": "completed"
    },
    "tags": []
   },
   "outputs": [
    {
     "data": {
      "text/html": [
       "<table class=\"dataframe\">\n",
       "<caption>A data.frame: 6 × 8</caption>\n",
       "<thead>\n",
       "\t<tr><th></th><th scope=col>index</th><th scope=col>episode_index</th><th scope=col>season_number</th><th scope=col>episode_number</th><th scope=col>episode_name</th><th scope=col>episode_date</th><th scope=col>character</th><th scope=col>content</th></tr>\n",
       "\t<tr><th></th><th scope=col>&lt;int&gt;</th><th scope=col>&lt;dbl&gt;</th><th scope=col>&lt;chr&gt;</th><th scope=col>&lt;chr&gt;</th><th scope=col>&lt;chr&gt;</th><th scope=col>&lt;chr&gt;</th><th scope=col>&lt;chr&gt;</th><th scope=col>&lt;chr&gt;</th></tr>\n",
       "</thead>\n",
       "<tbody>\n",
       "\t<tr><th scope=row>1</th><td>1</td><td>1</td><td>Season 1</td><td>Episode 1</td><td>Warring Factions</td><td>19/09/2003</td><td>Directions</td><td>[Inside Jez's room, where he his playing a musical track he has composed]                                                                                                   </td></tr>\n",
       "\t<tr><th scope=row>2</th><td>2</td><td>1</td><td>Season 1</td><td>Episode 1</td><td>Warring Factions</td><td>19/09/2003</td><td>Jeremy    </td><td>(This is fucking wicked. I am almost definitely a musical genius). [Looks at himself in the mirror]. (Maybe a tattoo on my chest, but of my face. Yeah, double me! Feel it!)</td></tr>\n",
       "\t<tr><th scope=row>3</th><td>3</td><td>1</td><td>Season 1</td><td>Episode 1</td><td>Warring Factions</td><td>19/09/2003</td><td>Directions</td><td>[In the streets; Mark is running towards the bus]                                                                                                                           </td></tr>\n",
       "\t<tr><th scope=row>4</th><td>4</td><td>1</td><td>Season 1</td><td>Episode 1</td><td>Warring Factions</td><td>19/09/2003</td><td>Mark      </td><td>(She's on there, she's on there. Got to get the same bus home. Don't go! Almost there. Yes, I am the lord of the bus, said he! Where is she? Knickers! She's not on here...)</td></tr>\n",
       "\t<tr><th scope=row>5</th><td>5</td><td>1</td><td>Season 1</td><td>Episode 1</td><td>Warring Factions</td><td>19/09/2003</td><td>Sophie    </td><td>Hey Mark!                                                                                                                                                                   </td></tr>\n",
       "\t<tr><th scope=row>6</th><td>6</td><td>1</td><td>Season 1</td><td>Episode 1</td><td>Warring Factions</td><td>19/09/2003</td><td>Mark      </td><td>Sophie!                                                                                                                                                                     </td></tr>\n",
       "</tbody>\n",
       "</table>\n"
      ],
      "text/latex": [
       "A data.frame: 6 × 8\n",
       "\\begin{tabular}{r|llllllll}\n",
       "  & index & episode\\_index & season\\_number & episode\\_number & episode\\_name & episode\\_date & character & content\\\\\n",
       "  & <int> & <dbl> & <chr> & <chr> & <chr> & <chr> & <chr> & <chr>\\\\\n",
       "\\hline\n",
       "\t1 & 1 & 1 & Season 1 & Episode 1 & Warring Factions & 19/09/2003 & Directions & {[}Inside Jez's room, where he his playing a musical track he has composed{]}                                                                                                   \\\\\n",
       "\t2 & 2 & 1 & Season 1 & Episode 1 & Warring Factions & 19/09/2003 & Jeremy     & (This is fucking wicked. I am almost definitely a musical genius). {[}Looks at himself in the mirror{]}. (Maybe a tattoo on my chest, but of my face. Yeah, double me! Feel it!)\\\\\n",
       "\t3 & 3 & 1 & Season 1 & Episode 1 & Warring Factions & 19/09/2003 & Directions & {[}In the streets; Mark is running towards the bus{]}                                                                                                                           \\\\\n",
       "\t4 & 4 & 1 & Season 1 & Episode 1 & Warring Factions & 19/09/2003 & Mark       & (She's on there, she's on there. Got to get the same bus home. Don't go! Almost there. Yes, I am the lord of the bus, said he! Where is she? Knickers! She's not on here...)\\\\\n",
       "\t5 & 5 & 1 & Season 1 & Episode 1 & Warring Factions & 19/09/2003 & Sophie     & Hey Mark!                                                                                                                                                                   \\\\\n",
       "\t6 & 6 & 1 & Season 1 & Episode 1 & Warring Factions & 19/09/2003 & Mark       & Sophie!                                                                                                                                                                     \\\\\n",
       "\\end{tabular}\n"
      ],
      "text/markdown": [
       "\n",
       "A data.frame: 6 × 8\n",
       "\n",
       "| <!--/--> | index &lt;int&gt; | episode_index &lt;dbl&gt; | season_number &lt;chr&gt; | episode_number &lt;chr&gt; | episode_name &lt;chr&gt; | episode_date &lt;chr&gt; | character &lt;chr&gt; | content &lt;chr&gt; |\n",
       "|---|---|---|---|---|---|---|---|---|\n",
       "| 1 | 1 | 1 | Season 1 | Episode 1 | Warring Factions | 19/09/2003 | Directions | [Inside Jez's room, where he his playing a musical track he has composed]                                                                                                    |\n",
       "| 2 | 2 | 1 | Season 1 | Episode 1 | Warring Factions | 19/09/2003 | Jeremy     | (This is fucking wicked. I am almost definitely a musical genius). [Looks at himself in the mirror]. (Maybe a tattoo on my chest, but of my face. Yeah, double me! Feel it!) |\n",
       "| 3 | 3 | 1 | Season 1 | Episode 1 | Warring Factions | 19/09/2003 | Directions | [In the streets; Mark is running towards the bus]                                                                                                                            |\n",
       "| 4 | 4 | 1 | Season 1 | Episode 1 | Warring Factions | 19/09/2003 | Mark       | (She's on there, she's on there. Got to get the same bus home. Don't go! Almost there. Yes, I am the lord of the bus, said he! Where is she? Knickers! She's not on here...) |\n",
       "| 5 | 5 | 1 | Season 1 | Episode 1 | Warring Factions | 19/09/2003 | Sophie     | Hey Mark!                                                                                                                                                                    |\n",
       "| 6 | 6 | 1 | Season 1 | Episode 1 | Warring Factions | 19/09/2003 | Mark       | Sophie!                                                                                                                                                                      |\n",
       "\n"
      ],
      "text/plain": [
       "  index episode_index season_number episode_number episode_name    \n",
       "1 1     1             Season 1      Episode 1      Warring Factions\n",
       "2 2     1             Season 1      Episode 1      Warring Factions\n",
       "3 3     1             Season 1      Episode 1      Warring Factions\n",
       "4 4     1             Season 1      Episode 1      Warring Factions\n",
       "5 5     1             Season 1      Episode 1      Warring Factions\n",
       "6 6     1             Season 1      Episode 1      Warring Factions\n",
       "  episode_date character \n",
       "1 19/09/2003   Directions\n",
       "2 19/09/2003   Jeremy    \n",
       "3 19/09/2003   Directions\n",
       "4 19/09/2003   Mark      \n",
       "5 19/09/2003   Sophie    \n",
       "6 19/09/2003   Mark      \n",
       "  content                                                                                                                                                                     \n",
       "1 [Inside Jez's room, where he his playing a musical track he has composed]                                                                                                   \n",
       "2 (This is fucking wicked. I am almost definitely a musical genius). [Looks at himself in the mirror]. (Maybe a tattoo on my chest, but of my face. Yeah, double me! Feel it!)\n",
       "3 [In the streets; Mark is running towards the bus]                                                                                                                           \n",
       "4 (She's on there, she's on there. Got to get the same bus home. Don't go! Almost there. Yes, I am the lord of the bus, said he! Where is she? Knickers! She's not on here...)\n",
       "5 Hey Mark!                                                                                                                                                                   \n",
       "6 Sophie!                                                                                                                                                                     "
      ]
     },
     "metadata": {},
     "output_type": "display_data"
    }
   ],
   "source": [
    "# Preview\n",
    "head(peepshow)"
   ]
  },
  {
   "cell_type": "code",
   "execution_count": 12,
   "metadata": {
    "execution": {
     "iopub.execute_input": "2021-02-26T05:32:47.555348Z",
     "iopub.status.busy": "2021-02-26T05:32:47.554171Z",
     "iopub.status.idle": "2021-02-26T05:32:47.596686Z",
     "shell.execute_reply": "2021-02-26T05:32:47.595550Z"
    },
    "papermill": {
     "duration": 0.063523,
     "end_time": "2021-02-26T05:32:47.596819",
     "exception": false,
     "start_time": "2021-02-26T05:32:47.533296",
     "status": "completed"
    },
    "tags": []
   },
   "outputs": [
    {
     "data": {
      "text/html": [
       "<table class=\"dataframe\">\n",
       "<caption>A data.frame: 5 × 8</caption>\n",
       "<thead>\n",
       "\t<tr><th></th><th scope=col>index</th><th scope=col>episode_index</th><th scope=col>season_number</th><th scope=col>episode_number</th><th scope=col>episode_name</th><th scope=col>episode_date</th><th scope=col>character</th><th scope=col>content</th></tr>\n",
       "\t<tr><th></th><th scope=col>&lt;int&gt;</th><th scope=col>&lt;dbl&gt;</th><th scope=col>&lt;chr&gt;</th><th scope=col>&lt;chr&gt;</th><th scope=col>&lt;chr&gt;</th><th scope=col>&lt;chr&gt;</th><th scope=col>&lt;chr&gt;</th><th scope=col>&lt;chr&gt;</th></tr>\n",
       "</thead>\n",
       "<tbody>\n",
       "\t<tr><th scope=row>1</th><td> 175</td><td> 1</td><td>Season 1</td><td>Episode 1</td><td>Warring Factions</td><td>19/09/2003</td><td>Jeremy</td><td>[Writing down \"Cockmuncher\" on his Rizla] (Heh-heh, yeah this is it. Paula's gonna love this. Very Iggy.) [Tries to stick it on Mark's forehead]                                                                </td></tr>\n",
       "\t<tr><th scope=row>2</th><td> 642</td><td> 3</td><td>Season 1</td><td>Episode 3</td><td>On The Pull     </td><td>03/10/2003</td><td>Mark  </td><td>[Picking up two pints of beer] (Jez is so great. He's like an idiot savant but not so stupid. I bet he's totally sorting this whole night in his head for us right now.) [Sits down with Jez, Toni and Valerie.]</td></tr>\n",
       "\t<tr><th scope=row>3</th><td>1615</td><td> 6</td><td>Season 1</td><td>Episode 6</td><td>Funeral         </td><td>24/10/2003</td><td>Jeremy</td><td>[Stepping out from his hiding place] Oh! It's like that, is it?! That's how it's going to be, is it? Well, excuse me! [Storms out in a huff.]                                                                   </td></tr>\n",
       "\t<tr><th scope=row>4</th><td>8366</td><td>29</td><td>Season 5</td><td>Episode 5</td><td>Jeremy's Manager</td><td>30/05/2008</td><td>Jeremy</td><td>[Banging on the door of Cally's trailer] Cally? Cally? [There's no answer, so Jeremy opens the door]                                                                                                            </td></tr>\n",
       "\t<tr><th scope=row>5</th><td>8863</td><td>31</td><td>Season 6</td><td>Episode 1</td><td>Jeremy at JLB   </td><td>18/09/2009</td><td>Mark  </td><td>[Coughs]                                                                                                                                                                                                        </td></tr>\n",
       "</tbody>\n",
       "</table>\n"
      ],
      "text/latex": [
       "A data.frame: 5 × 8\n",
       "\\begin{tabular}{r|llllllll}\n",
       "  & index & episode\\_index & season\\_number & episode\\_number & episode\\_name & episode\\_date & character & content\\\\\n",
       "  & <int> & <dbl> & <chr> & <chr> & <chr> & <chr> & <chr> & <chr>\\\\\n",
       "\\hline\n",
       "\t1 &  175 &  1 & Season 1 & Episode 1 & Warring Factions & 19/09/2003 & Jeremy & {[}Writing down \"Cockmuncher\" on his Rizla{]} (Heh-heh, yeah this is it. Paula's gonna love this. Very Iggy.) {[}Tries to stick it on Mark's forehead{]}                                                                \\\\\n",
       "\t2 &  642 &  3 & Season 1 & Episode 3 & On The Pull      & 03/10/2003 & Mark   & {[}Picking up two pints of beer{]} (Jez is so great. He's like an idiot savant but not so stupid. I bet he's totally sorting this whole night in his head for us right now.) {[}Sits down with Jez, Toni and Valerie.{]}\\\\\n",
       "\t3 & 1615 &  6 & Season 1 & Episode 6 & Funeral          & 24/10/2003 & Jeremy & {[}Stepping out from his hiding place{]} Oh! It's like that, is it?! That's how it's going to be, is it? Well, excuse me! {[}Storms out in a huff.{]}                                                                   \\\\\n",
       "\t4 & 8366 & 29 & Season 5 & Episode 5 & Jeremy's Manager & 30/05/2008 & Jeremy & {[}Banging on the door of Cally's trailer{]} Cally? Cally? {[}There's no answer, so Jeremy opens the door{]}                                                                                                            \\\\\n",
       "\t5 & 8863 & 31 & Season 6 & Episode 1 & Jeremy at JLB    & 18/09/2009 & Mark   & {[}Coughs{]}                                                                                                                                                                                                        \\\\\n",
       "\\end{tabular}\n"
      ],
      "text/markdown": [
       "\n",
       "A data.frame: 5 × 8\n",
       "\n",
       "| <!--/--> | index &lt;int&gt; | episode_index &lt;dbl&gt; | season_number &lt;chr&gt; | episode_number &lt;chr&gt; | episode_name &lt;chr&gt; | episode_date &lt;chr&gt; | character &lt;chr&gt; | content &lt;chr&gt; |\n",
       "|---|---|---|---|---|---|---|---|---|\n",
       "| 1 |  175 |  1 | Season 1 | Episode 1 | Warring Factions | 19/09/2003 | Jeremy | [Writing down \"Cockmuncher\" on his Rizla] (Heh-heh, yeah this is it. Paula's gonna love this. Very Iggy.) [Tries to stick it on Mark's forehead]                                                                 |\n",
       "| 2 |  642 |  3 | Season 1 | Episode 3 | On The Pull      | 03/10/2003 | Mark   | [Picking up two pints of beer] (Jez is so great. He's like an idiot savant but not so stupid. I bet he's totally sorting this whole night in his head for us right now.) [Sits down with Jez, Toni and Valerie.] |\n",
       "| 3 | 1615 |  6 | Season 1 | Episode 6 | Funeral          | 24/10/2003 | Jeremy | [Stepping out from his hiding place] Oh! It's like that, is it?! That's how it's going to be, is it? Well, excuse me! [Storms out in a huff.]                                                                    |\n",
       "| 4 | 8366 | 29 | Season 5 | Episode 5 | Jeremy's Manager | 30/05/2008 | Jeremy | [Banging on the door of Cally's trailer] Cally? Cally? [There's no answer, so Jeremy opens the door]                                                                                                             |\n",
       "| 5 | 8863 | 31 | Season 6 | Episode 1 | Jeremy at JLB    | 18/09/2009 | Mark   | [Coughs]                                                                                                                                                                                                         |\n",
       "\n"
      ],
      "text/plain": [
       "  index episode_index season_number episode_number episode_name    \n",
       "1  175   1            Season 1      Episode 1      Warring Factions\n",
       "2  642   3            Season 1      Episode 3      On The Pull     \n",
       "3 1615   6            Season 1      Episode 6      Funeral         \n",
       "4 8366  29            Season 5      Episode 5      Jeremy's Manager\n",
       "5 8863  31            Season 6      Episode 1      Jeremy at JLB   \n",
       "  episode_date character\n",
       "1 19/09/2003   Jeremy   \n",
       "2 03/10/2003   Mark     \n",
       "3 24/10/2003   Jeremy   \n",
       "4 30/05/2008   Jeremy   \n",
       "5 18/09/2009   Mark     \n",
       "  content                                                                                                                                                                                                         \n",
       "1 [Writing down \"Cockmuncher\" on his Rizla] (Heh-heh, yeah this is it. Paula's gonna love this. Very Iggy.) [Tries to stick it on Mark's forehead]                                                                \n",
       "2 [Picking up two pints of beer] (Jez is so great. He's like an idiot savant but not so stupid. I bet he's totally sorting this whole night in his head for us right now.) [Sits down with Jez, Toni and Valerie.]\n",
       "3 [Stepping out from his hiding place] Oh! It's like that, is it?! That's how it's going to be, is it? Well, excuse me! [Storms out in a huff.]                                                                   \n",
       "4 [Banging on the door of Cally's trailer] Cally? Cally? [There's no answer, so Jeremy opens the door]                                                                                                            \n",
       "5 [Coughs]                                                                                                                                                                                                        "
      ]
     },
     "metadata": {},
     "output_type": "display_data"
    }
   ],
   "source": [
    "# Run a test for any rogue directions which may be incorrectly allocated as script due to having a \":\" in it\n",
    "test <-  \n",
    "  filter(peepshow,character != \"Directions\") %>%\n",
    "  filter(str_sub(content,1,1) == \"[\") %>% filter(str_sub(content,-1,-1) == \"]\")\n",
    "  head(test,100)"
   ]
  },
  {
   "cell_type": "code",
   "execution_count": 13,
   "metadata": {
    "execution": {
     "iopub.execute_input": "2021-02-26T05:32:47.637175Z",
     "iopub.status.busy": "2021-02-26T05:32:47.635967Z",
     "iopub.status.idle": "2021-02-26T05:32:47.723363Z",
     "shell.execute_reply": "2021-02-26T05:32:47.722215Z"
    },
    "papermill": {
     "duration": 0.108989,
     "end_time": "2021-02-26T05:32:47.723531",
     "exception": false,
     "start_time": "2021-02-26T05:32:47.614542",
     "status": "completed"
    },
    "tags": []
   },
   "outputs": [],
   "source": [
    "# Write the data\n",
    "write.csv(peepshow, \"peepshow.csv\", row.names = F)"
   ]
  }
 ],
 "metadata": {
  "kernelspec": {
   "display_name": "R",
   "language": "R",
   "name": "ir"
  },
  "language_info": {
   "codemirror_mode": "r",
   "file_extension": ".r",
   "mimetype": "text/x-r-source",
   "name": "R",
   "pygments_lexer": "r",
   "version": "3.6.3"
  },
  "papermill": {
   "default_parameters": {},
   "duration": 6.709198,
   "end_time": "2021-02-26T05:32:47.851214",
   "environment_variables": {},
   "exception": null,
   "input_path": "__notebook__.ipynb",
   "output_path": "__notebook__.ipynb",
   "parameters": {},
   "start_time": "2021-02-26T05:32:41.142016",
   "version": "2.2.2"
  }
 },
 "nbformat": 4,
 "nbformat_minor": 4
}
